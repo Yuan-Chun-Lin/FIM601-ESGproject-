{
 "cells": [
  {
   "cell_type": "code",
   "execution_count": 7,
   "id": "5803c217",
   "metadata": {
    "scrolled": true
   },
   "outputs": [
    {
     "name": "stdout",
     "output_type": "stream",
     "text": [
      "            Top       Btm   BuySell\n",
      "alpha  0.005322  0.047845  0.008821\n",
      "beta1  0.960401  1.021830  0.960980\n",
      "beta2 -0.160211  0.447055 -0.144568\n",
      "beta3  0.026022 -0.160679  0.018142\n"
     ]
    }
   ],
   "source": [
    "\n",
    "\n",
    "import pandas as pd\n",
    "import numpy as np\n",
    "import statsmodels.formula.api as smf\n",
    "#from datetime import datetime as dt\n",
    "\n",
    "\n",
    "Port=pd.read_csv(\"C:/NCSU/Spring2022/ESG/PythonData/tmp/port/port.csv\")\n",
    "FF3=pd.read_csv(\"C:/NCSU/Spring2022/ESG/PythonData/Data/F-F_Research_Data_Factors_daily_new.CSV\")\n",
    "\n",
    "FF3 = FF3.dropna()\n",
    "#P100 = P100.where(P100.iloc[:,:]!=-99.99)\n",
    "Port['DATES']=pd.to_datetime(Port['DATES'])\n",
    "Port['DATES'] = pd.to_datetime(Port['DATES'], format='%Y%m%d')#, errors='ignore')\n",
    "Port=Port.rename(columns={'DATES':'date'})\n",
    "FF3['date'] = pd.to_datetime(FF3['date'], format='%Y%m%d', errors='ignore')\n",
    "FF3 = FF3.rename(columns={\"Mkt-RF\": \"Mkt_RF\"})\n",
    "\n",
    "Rg = pd.merge(Port,FF3,how='left', on='date')\n",
    "# minus RF\n",
    "for i in range(1,3):\n",
    "    Rg.iloc[:,i] = Rg.iloc[:,i] - Rg.iloc[:,7]\n",
    "\n",
    "\n",
    "# a = CAPM.params, a[0] = intercept, a[1] = beta1, ...\n",
    "alpha=[]\n",
    "beta1=[]\n",
    "beta2=[]\n",
    "beta3=[]\n",
    "col_list=Rg.columns.drop(['date','Mkt_RF','SMB','HML','RF'])\n",
    "# Step1: Run time-series to get the market factor params.\n",
    "for i in col_list:\n",
    "    mod = smf.ols(formula= i+' ~ Mkt_RF + SMB + HML', data=Rg)\n",
    "    FF = mod.fit()\n",
    "    Params = FF.params\n",
    "    alpha.append(Params[0])\n",
    "    beta1.append(Params[1])\n",
    "    beta2.append(Params[2])\n",
    "    beta3.append(Params[3])\n",
    "beta = pd.DataFrame(np.matrix([alpha,beta1,beta2,beta3]),index=['alpha','beta1','beta2','beta3'],columns=col_list)\n",
    "\n",
    "beta.to_csv('C:/NCSU/Spring2022/ESG/PythonData/output/alpha_beta.csv')\n",
    "print(beta)\n"
   ]
  }
 ],
 "metadata": {
  "kernelspec": {
   "display_name": "Python 3",
   "language": "python",
   "name": "python3"
  },
  "language_info": {
   "codemirror_mode": {
    "name": "ipython",
    "version": 3
   },
   "file_extension": ".py",
   "mimetype": "text/x-python",
   "name": "python",
   "nbconvert_exporter": "python",
   "pygments_lexer": "ipython3",
   "version": "3.8.8"
  }
 },
 "nbformat": 4,
 "nbformat_minor": 5
}
